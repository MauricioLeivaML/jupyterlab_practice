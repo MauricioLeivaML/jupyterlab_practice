{
 "cells": [
  {
   "cell_type": "markdown",
   "id": "433f6b52-1344-429a-ac92-61e168eaf0d3",
   "metadata": {},
   "source": [
    "# Mauricio Leiva\n",
    "Notebook for assignment 7"
   ]
  },
  {
   "cell_type": "code",
   "execution_count": 1,
   "id": "f93b9d2c-b605-48ca-a837-0b705ad14346",
   "metadata": {},
   "outputs": [
    {
     "name": "stdout",
     "output_type": "stream",
     "text": [
      "5.0\n"
     ]
    }
   ],
   "source": [
    "# Function to Calculate the Average of a List of Numbers.\n",
    "def compute_mean(numbers):\n",
    "    mean_value = sum(numbers) / len(numbers)\n",
    "    return mean_value\n",
    "\n",
    "# Calling the function to calculate the average.\n",
    "averageResult = compute_mean([2, 4, 6, 8])\n",
    "print(averageResult)\n",
    "\n"
   ]
  },
  {
   "cell_type": "markdown",
   "id": "f62fa44d-65ce-4f45-b9f8-62f2459d5620",
   "metadata": {},
   "source": [
    "The cell above corresponds to the code to calculate the arithmetic mean of a set of numbers.\n",
    "\n",
    "The following equations can be used to express the same average:\n",
    "\n",
    "\n",
    "$$\n",
    "\\overline{x} = \\frac{x_1 + x_2 + \\cdots + x_n}{n} = \\frac{1}{n} \\left( \\sum_{i=1}^{n} x_i \\right) \n",
    "$$"
   ]
  },
  {
   "cell_type": "code",
   "execution_count": null,
   "id": "bb510bfe-f090-4ade-8fa8-c2f8219e54ea",
   "metadata": {},
   "outputs": [],
   "source": []
  },
  {
   "cell_type": "code",
   "execution_count": null,
   "id": "2b1ff298-ed77-405b-a617-45a090997072",
   "metadata": {},
   "outputs": [],
   "source": []
  }
 ],
 "metadata": {
  "kernelspec": {
   "display_name": "Python [conda env:assignment_07_env]",
   "language": "python",
   "name": "conda-env-assignment_07_env-py"
  },
  "language_info": {
   "codemirror_mode": {
    "name": "ipython",
    "version": 3
   },
   "file_extension": ".py",
   "mimetype": "text/x-python",
   "name": "python",
   "nbconvert_exporter": "python",
   "pygments_lexer": "ipython3",
   "version": "3.12.4"
  }
 },
 "nbformat": 4,
 "nbformat_minor": 5
}
